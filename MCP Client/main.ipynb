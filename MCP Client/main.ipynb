{
  "nbformat": 4,
  "nbformat_minor": 0,
  "metadata": {
    "colab": {
      "provenance": []
    },
    "kernelspec": {
      "name": "python3",
      "display_name": "Python 3"
    },
    "language_info": {
      "name": "python"
    }
  },
  "cells": [
    {
      "cell_type": "code",
      "execution_count": null,
      "metadata": {
        "id": "B-6JSHqJZW7z"
      },
      "outputs": [],
      "source": [
        "# main.py\n",
        "from mcp_rest import MCPRestClient\n",
        "from mcp_graph import MCPGraphClient\n",
        "from mcp_jdbc import MCPJdbcClient\n",
        "\n",
        "# Initialize clients\n",
        "rest_client = MCPRestClient(\"customer-service\")\n",
        "graph_client = MCPGraphClient(\"user-profile\")\n",
        "jdbc_client = MCPJdbcClient(\"inventory-db\")\n",
        "\n",
        "# Get contexts\n",
        "rest_context = rest_client.get_context({\"user_id\": \"123\"})\n",
        "graph_context = graph_client.get_context({\"upn\": \"user@domain.com\"})\n",
        "jdbc_context = jdbc_client.get_context({\"product_id\": \"P-100\"})"
      ]
    }
  ]
}