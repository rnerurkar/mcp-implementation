{
  "nbformat": 4,
  "nbformat_minor": 0,
  "metadata": {
    "colab": {
      "provenance": []
    },
    "kernelspec": {
      "name": "python3",
      "display_name": "Python 3"
    },
    "language_info": {
      "name": "python"
    }
  },
  "cells": [
    {
      "cell_type": "code",
      "execution_count": null,
      "metadata": {
        "id": "1RsigkXrYJcg"
      },
      "outputs": [],
      "source": [
        "# rest_client.py\n",
        "import requests\n",
        "from urllib.parse import urljoin\n",
        "from .mcp_base import MCPBaseClient\n",
        "\n",
        "class MCPRestClient(MCPBaseClient):\n",
        "    def _get_endpoint_type(self):\n",
        "        return \"rest\"\n",
        "\n",
        "    def send_request(self, payload, token):\n",
        "        response = requests.post(\n",
        "            urljoin(self.service_url, \"/context\"),\n",
        "            json=payload,\n",
        "            headers={\"Authorization\": f\"Bearer {token}\"},\n",
        "            timeout=10\n",
        "        )\n",
        "        response.raise_for_status()\n",
        "        return response.json()\n"
      ]
    }
  ]
}