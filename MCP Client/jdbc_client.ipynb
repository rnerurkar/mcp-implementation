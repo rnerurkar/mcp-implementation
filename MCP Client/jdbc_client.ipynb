{
  "nbformat": 4,
  "nbformat_minor": 0,
  "metadata": {
    "colab": {
      "provenance": []
    },
    "kernelspec": {
      "name": "python3",
      "display_name": "Python 3"
    },
    "language_info": {
      "name": "python"
    }
  },
  "cells": [
    {
      "cell_type": "code",
      "execution_count": null,
      "metadata": {
        "id": "JHXCPm8kY00-"
      },
      "outputs": [],
      "source": [
        "# jdbc_client.py\n",
        "import json\n",
        "import jaydebeapi\n",
        "from .mcp_base import MCPBaseClient\n",
        "\n",
        "class MCPJdbcClient(MCPBaseClient):\n",
        "    def _get_endpoint_type(self):\n",
        "        return \"jdbc\"\n",
        "\n",
        "    def send_request(self, payload, token):\n",
        "        conn = jaydebeapi.connect(\n",
        "            self.manifest[\"jdbc\"][\"driver_class\"],\n",
        "            self.service_url,\n",
        "            {\"access_token\": token},\n",
        "            jars=[self.manifest[\"jdbc\"][\"driver_path\"]]\n",
        "        )\n",
        "        try:\n",
        "            cursor = conn.cursor()\n",
        "            cursor.execute(\n",
        "                \"CALL mcp.context_procedure(?, ?)\",\n",
        "                [json.dumps(payload), token]\n",
        "            )\n",
        "            return json.loads(cursor.fetchone()[0])\n",
        "        finally:\n",
        "            conn.close()"
      ]
    }
  ]
}