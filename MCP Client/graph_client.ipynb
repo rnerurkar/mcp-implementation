{
  "nbformat": 4,
  "nbformat_minor": 0,
  "metadata": {
    "colab": {
      "provenance": []
    },
    "kernelspec": {
      "name": "python3",
      "display_name": "Python 3"
    },
    "language_info": {
      "name": "python"
    }
  },
  "cells": [
    {
      "cell_type": "code",
      "execution_count": null,
      "metadata": {
        "id": "T_0blYLTYpDa"
      },
      "outputs": [],
      "source": [
        "# graph_client.py\n",
        "import requests\n",
        "from urllib.parse import urljoin\n",
        "from .mcp_base import MCPBaseClient\n",
        "\n",
        "class MCPGraphClient(MCPBaseClient):\n",
        "    def _get_endpoint_type(self):\n",
        "        return \"graph\"\n",
        "\n",
        "    def send_request(self, payload, token):\n",
        "        response = requests.post(\n",
        "            urljoin(self.service_url, \"/v1.0/getContext\"),\n",
        "            json=payload,\n",
        "            headers={\n",
        "                \"Authorization\": f\"Bearer {token}\",\n",
        "                \"ConsistencyLevel\": \"eventual\"\n",
        "            },\n",
        "            timeout=15\n",
        "        )\n",
        "        response.raise_for_status()\n",
        "        return response.json()"
      ]
    }
  ]
}