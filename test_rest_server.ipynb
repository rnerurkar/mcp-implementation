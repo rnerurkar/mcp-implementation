{
  "nbformat": 4,
  "nbformat_minor": 0,
  "metadata": {
    "colab": {
      "provenance": []
    },
    "kernelspec": {
      "name": "python3",
      "display_name": "Python 3"
    },
    "language_info": {
      "name": "python"
    }
  },
  "cells": [
    {
      "cell_type": "code",
      "execution_count": null,
      "metadata": {
        "id": "jDsvyU_cjp5a"
      },
      "outputs": [],
      "source": [
        "# test_rest_service.py\n",
        "from customer_service_server import CustomerServiceServer\n",
        "import os\n",
        "\n",
        "# Set environment variables for testing\n",
        "os.environ[\"GCP_PROJECT\"] = \"test-project\"\n",
        "os.environ[\"AZURE_CLIENT_ID\"] = \"test-client-id\"\n",
        "os.environ[\"AZURE_TENANT_ID\"] = \"test-tenant-id\"\n",
        "\n",
        "\n",
        "# mock_request.py\n",
        "class MockRequest:\n",
        "    def __init__(self, headers=None, json_data=None):\n",
        "        self.headers = headers or {}\n",
        "        self._json = json_data or {}\n",
        "\n",
        "    def get_json(self):\n",
        "        return self._json\n",
        "\n",
        "    @property\n",
        "    def json(self):\n",
        "        return self._json\n",
        "\n",
        "def test_customer_service():\n",
        "    # Create mock request with valid token and payload\n",
        "    request = MockRequest(\n",
        "        headers={\"Authorization\": \"Bearer valid_token\"},\n",
        "        json_data={\"customer_id\": \"12345\"}\n",
        "    )\n",
        "\n",
        "    # Initialize server\n",
        "    server = CustomerServiceServer()\n",
        "\n",
        "    # Process request\n",
        "    try:\n",
        "        response = server.process_request(request)\n",
        "        print(\"Context Response:\")\n",
        "        print(json.dumps(response, indent=2))\n",
        "    except Exception as e:\n",
        "        print(f\"Request failed: {str(e)}\")\n",
        "\n",
        "if __name__ == \"__main__\":\n",
        "    test_customer_service()"
      ]
    }
  ]
}