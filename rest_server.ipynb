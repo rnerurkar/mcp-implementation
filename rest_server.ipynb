{
  "nbformat": 4,
  "nbformat_minor": 0,
  "metadata": {
    "colab": {
      "provenance": []
    },
    "kernelspec": {
      "name": "python3",
      "display_name": "Python 3"
    },
    "language_info": {
      "name": "python"
    }
  },
  "cells": [
    {
      "cell_type": "code",
      "execution_count": null,
      "metadata": {
        "id": "Y3dFxXGriF4C"
      },
      "outputs": [],
      "source": [
        "# customer_service_server.py\n",
        "from mcp_base_server import MCPBaseServer\n",
        "import requests\n",
        "\n",
        "class CustomerServiceServer(MCPBaseServer):\n",
        "    def __init__(self):\n",
        "        super().__init__(\"customer-service\", \"retail\")\n",
        "        self.crm_endpoint = \"https://crm.example.com/api/v1\"\n",
        "        self.crm_token = self.get_secret(\"CRM_API_TOKEN\")\n",
        "\n",
        "    def get_expected_audience(self) -> str:\n",
        "        return \"api://customer-service\"\n",
        "\n",
        "    def validate_authorization(self, request_payload: dict):\n",
        "        required_scopes = [\"customer:read\"]\n",
        "        token_scopes = request_payload.get(\"scp\", \"\").split()\n",
        "\n",
        "        if not all(scope in token_scopes for scope in required_scopes):\n",
        "            raise PermissionError(\"Missing required customer:read scope\")\n",
        "\n",
        "    def fetch_data(self, request_payload: dict):\n",
        "        customer_id = request_payload.get(\"customer_id\")\n",
        "        if not customer_id:\n",
        "            raise ValueError(\"Missing customer_id in request\")\n",
        "\n",
        "        response = requests.get(\n",
        "            f\"{self.crm_endpoint}/customers/{customer_id}\",\n",
        "            headers={\"Authorization\": f\"Bearer {self.crm_token}\"},\n",
        "            timeout=5\n",
        "        )\n",
        "        response.raise_for_status()\n",
        "        return response.json()\n",
        "\n",
        "    def build_context(self, raw_data) -> dict:\n",
        "        return {\n",
        "            \"@context\": \"https://schema.org\",\n",
        "            \"@type\": \"Person\",\n",
        "            \"identifier\": raw_data[\"id\"],\n",
        "            \"name\": raw_data[\"name\"],\n",
        "            \"email\": raw_data[\"email\"],\n",
        "            \"telephone\": raw_data[\"phone\"],\n",
        "            \"address\": {\n",
        "                \"@type\": \"PostalAddress\",\n",
        "                \"streetAddress\": raw_data[\"address\"][\"street\"],\n",
        "                \"addressLocality\": raw_data[\"address\"][\"city\"],\n",
        "                \"postalCode\": raw_data[\"address\"][\"zip\"],\n",
        "                \"addressCountry\": raw_data[\"address\"][\"country\"]\n",
        "            }\n",
        "        }"
      ]
    }
  ]
}