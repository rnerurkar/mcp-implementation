{
  "nbformat": 4,
  "nbformat_minor": 0,
  "metadata": {
    "colab": {
      "provenance": []
    },
    "kernelspec": {
      "name": "python3",
      "display_name": "Python 3"
    },
    "language_info": {
      "name": "python"
    }
  },
  "cells": [
    {
      "cell_type": "code",
      "execution_count": null,
      "metadata": {
        "id": "GLhonzA9chzh"
      },
      "outputs": [],
      "source": []
    },
    {
      "cell_type": "markdown",
      "source": [
        "Secure MCP Base Classes Addressing Key Security Concerns\n",
        "Below are enhanced code snippets from the MCP base classes showing how they implement critical security controls using the Template Method pattern:\n",
        "\n",
        "1. OAuth 2.1 with Azure AD Integration\n",
        "\n",
        "**Client-Side Token Generation**"
      ],
      "metadata": {
        "id": "bIql7Oh5ctpA"
      }
    },
    {
      "cell_type": "code",
      "source": [
        "# mcp_client_base.py\n",
        "from msal import ConfidentialClientApplication\n",
        "import jwt\n",
        "\n",
        "class MCPBaseClient:\n",
        "    def __init__(self, context_type):\n",
        "        self.context_type = context_type\n",
        "        self.service_url = self._discover_service()\n",
        "        self.auth_client = ConfidentialClientApplication(\n",
        "            client_id=os.getenv(\"AZURE_CLIENT_ID\"),\n",
        "            client_credential=os.getenv(\"AZURE_CLIENT_SECRET\"),\n",
        "            authority=f\"https://login.microsoftonline.com/{os.getenv('AZURE_TENANT_ID')}\"\n",
        "        )\n",
        "\n",
        "    def _get_token(self):\n",
        "        \"\"\"OAuth 2.1 token acquisition with PKCE and short expiry\"\"\"\n",
        "        result = self.auth_client.acquire_token_for_client(\n",
        "            scopes=[f\"api://{self._get_audience()}/.default\"],\n",
        "            enable_pkce=True,\n",
        "            token_expiration=300  # 5 minutes\n",
        "        )\n",
        "        return result[\"access_token\"]\n",
        "\n",
        "    def _get_audience(self):\n",
        "        # Discover audience from MCP registry\n",
        "        service = servicedirectory.resolve_service(self.context_type)\n",
        "        return service.metadata[\"audience\"]"
      ],
      "metadata": {
        "id": "Np-vNkIxcvUd"
      },
      "execution_count": null,
      "outputs": []
    },
    {
      "cell_type": "markdown",
      "source": [
        "**Server-Side Token Validation**\n",
        "\n"
      ],
      "metadata": {
        "id": "7MBZN4M4c5mC"
      }
    },
    {
      "cell_type": "code",
      "source": [
        "# mcp_server_base.py\n",
        "from jwt import PyJWT, JWT\n",
        "from jwt.exceptions import InvalidAudienceError\n",
        "\n",
        "class MCPBaseServer(ABC):\n",
        "    def _validate_azure_token(self, token: str):\n",
        "        jwks_client = PyJWT()\n",
        "        signing_key = self._get_azure_signing_key()\n",
        "\n",
        "        try:\n",
        "            # STRICT AUDIENCE VALIDATION\n",
        "            payload = jwks_client.decode(\n",
        "                token,\n",
        "                key=signing_key,\n",
        "                algorithms=[\"RS256\"],\n",
        "                audience=self.expected_audience,  # Critical for confused deputy\n",
        "                options={\"require\": [\"exp\", \"iat\", \"aud\"]},\n",
        "                leeway=0  # No tolerance for expired tokens\n",
        "            )\n",
        "\n",
        "            # ADDITIONAL CLAIM VALIDATION\n",
        "            if \"roles\" not in payload or \"mcp_consumer\" not in payload[\"roles\"]:\n",
        "                raise PermissionError(\"Missing required role\")\n",
        "\n",
        "        except InvalidAudienceError:\n",
        "            # Log security event\n",
        "            self._log_security_event(\"invalid_audience\", token)\n",
        "            raise"
      ],
      "metadata": {
        "id": "r_KkCI1Ac997"
      },
      "execution_count": null,
      "outputs": []
    },
    {
      "cell_type": "markdown",
      "source": [
        "2. Prompt Injection Protection\n",
        "**Input Sanitization & Validation**"
      ],
      "metadata": {
        "id": "v7-IhmSUdBhH"
      }
    },
    {
      "cell_type": "code",
      "source": [
        "class MCPBaseServer(ABC):\n",
        "    PROMPT_INJECTION_PATTERNS = [\n",
        "        r\"(?i)ignore previous|system:|assistant:|prompt injection\",\n",
        "        r\"(\\{|\\}|\\\"|'|;|--|\\/\\*|\\*\\/)\"  # Suspicious characters\n",
        "    ]\n",
        "\n",
        "    def _sanitize_input(self, input_data: dict) -> dict:\n",
        "        \"\"\"Recursive input sanitization\"\"\"\n",
        "        sanitized = {}\n",
        "        for key, value in input_data.items():\n",
        "            if isinstance(value, str):\n",
        "                for pattern in self.PROMPT_INJECTION_PATTERNS:\n",
        "                    if re.search(pattern, value):\n",
        "                        raise SecurityException(\"Potential prompt injection detected\")\n",
        "                sanitized[key] = html.escape(value)\n",
        "            elif isinstance(value, dict):\n",
        "                sanitized[key] = self._sanitize_input(value)\n",
        "            else:\n",
        "                sanitized[key] = value\n",
        "        return sanitized\n",
        "\n",
        "    @abstractmethod\n",
        "    def _execute_query(self, sanitized_input: dict):\n",
        "        \"\"\"Implemented in subclasses\"\"\"\n",
        "        pass\n",
        "\n",
        "    # Template method\n",
        "    def process_request(self, raw_input: dict):\n",
        "        sanitized = self._sanitize_input(raw_input)\n",
        "        return self._execute_query(sanitized)"
      ],
      "metadata": {
        "id": "ybHHr1wwdF_R"
      },
      "execution_count": null,
      "outputs": []
    },
    {
      "cell_type": "markdown",
      "source": [
        "**REST Server Implementation**\n"
      ],
      "metadata": {
        "id": "BmGF5ArndIZ7"
      }
    },
    {
      "cell_type": "code",
      "source": [
        "class RESTServer(MCPBaseServer):\n",
        "    def _execute_query(self, input_data):\n",
        "        # GenAI-generated from OpenAPI spec\n",
        "        query = f\"/users/{input_data['user_id']}\"\n",
        "\n",
        "        # ALLOW-LIST VALIDATION\n",
        "        if not re.match(r\"^\\/users\\/[a-zA-Z0-9-]{1,36}$\", query):\n",
        "            raise SecurityException(\"Invalid query structure\")\n",
        "\n",
        "        return requests.get(f\"{self.base_url}{query}\")"
      ],
      "metadata": {
        "id": "NDevFe-0dR6e"
      },
      "execution_count": null,
      "outputs": []
    },
    {
      "cell_type": "markdown",
      "source": [
        "3. Credential Exposure Prevention\n",
        "**Secret Management Integration**"
      ],
      "metadata": {
        "id": "9-us8TXrdUau"
      }
    },
    {
      "cell_type": "code",
      "source": [
        "class MCPBaseServer(ABC):\n",
        "    def __init__(self):\n",
        "        self.secret_client = secretmanager.SecretManagerServiceClient()\n",
        "\n",
        "    def _get_secret(self, secret_id: str) -> str:\n",
        "        \"\"\"Secure secret retrieval\"\"\"\n",
        "        name = f\"projects/{os.getenv('GCP_PROJECT')}/secrets/{secret_id}/versions/latest\"\n",
        "        response = self.secret_client.access_secret_version(name=name)\n",
        "        return response.payload.data.decode('UTF-8')\n",
        "\n",
        "class JDBCServer(MCPBaseServer):\n",
        "    def _db_connection(self):\n",
        "        # IAM Authentication (no credentials)\n",
        "        return create_engine(\n",
        "            f\"postgresql+pg8000://\",\n",
        "            creator=lambda: self.connector.connect(\n",
        "                os.getenv(\"CLOUD_SQL_INSTANCE\"),\n",
        "                \"pg8000\",\n",
        "                user=f\"service-account@{os.getenv('GCP_PROJECT')}.iam\"\n",
        "            )\n",
        "        )"
      ],
      "metadata": {
        "id": "uqYLmUa6dYJq"
      },
      "execution_count": null,
      "outputs": []
    },
    {
      "cell_type": "markdown",
      "source": [
        "4. SQL/GraphQL Injection Prevention\n",
        "**Parameterized Queries**"
      ],
      "metadata": {
        "id": "Q8mhRo3YdbHy"
      }
    },
    {
      "cell_type": "code",
      "source": [
        "class JDBCServer(MCPBaseServer):\n",
        "    PREPARED_QUERIES = {\n",
        "        \"user_data\": \"SELECT * FROM users WHERE id = :user_id\",\n",
        "        \"inventory\": \"SELECT * FROM products WHERE category = :category\"\n",
        "    }\n",
        "\n",
        "    def _execute_query(self, input_data):\n",
        "        query_name = input_data[\"query\"]\n",
        "        params = input_data[\"params\"]\n",
        "\n",
        "        # QUERY ALLOW-LISTING\n",
        "        if query_name not in self.PREPARED_QUERIES:\n",
        "            raise SecurityException(\"Invalid query name\")\n",
        "\n",
        "        with self.engine.connect() as conn:\n",
        "            # SAFE PARAMETERIZATION\n",
        "            result = conn.execute(\n",
        "                text(self.PREPARED_QUERIES[query_name]),\n",
        "                params\n",
        "            )\n",
        "            return [dict(row) for row in result]"
      ],
      "metadata": {
        "id": "oe0SlbeAdfSv"
      },
      "execution_count": null,
      "outputs": []
    },
    {
      "cell_type": "markdown",
      "source": [
        "Context Poisoning Protection\n",
        "**Digital Signatures & Policy Enforcement**"
      ],
      "metadata": {
        "id": "hXC7QX9Ldl-8"
      }
    },
    {
      "cell_type": "code",
      "source": [],
      "metadata": {
        "id": "BmjP610JdqAR"
      },
      "execution_count": null,
      "outputs": []
    },
    {
      "cell_type": "markdown",
      "source": [
        "Rego Policy Against Poisoning (context_policy.rego)\n"
      ],
      "metadata": {
        "id": "8XMlYcDUdugY"
      }
    },
    {
      "cell_type": "code",
      "source": [
        "rego\n",
        "package mcp.context\n",
        "\n",
        "default allow = false\n",
        "\n",
        "# Prevent malicious context patterns\n",
        "allow {\n",
        "    not contains_malicious_pattern(input.context)\n",
        "    within_freshness_limits(input.timestamp)\n",
        "    context_size_ok(input.context)\n",
        "}\n",
        "\n",
        "contains_malicious_pattern(ctx) {\n",
        "    regex.match(`(?i)(system:|ignore previous|malicious-payload)`, ctx)\n",
        "}"
      ],
      "metadata": {
        "id": "7dP0UNKCeA6m"
      },
      "execution_count": null,
      "outputs": []
    },
    {
      "cell_type": "code",
      "source": [],
      "metadata": {
        "id": "qlcrBqlueCU2"
      },
      "execution_count": null,
      "outputs": []
    }
  ]
}