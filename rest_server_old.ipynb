{
  "nbformat": 4,
  "nbformat_minor": 0,
  "metadata": {
    "colab": {
      "provenance": []
    },
    "kernelspec": {
      "name": "python3",
      "display_name": "Python 3"
    },
    "language_info": {
      "name": "python"
    }
  },
  "cells": [
    {
      "cell_type": "code",
      "execution_count": null,
      "metadata": {
        "id": "3aTpXImDYS5b"
      },
      "outputs": [],
      "source": [
        "import requests\n",
        "import re\n",
        "\n",
        "class UserContextServer(MCPBaseServer):\n",
        "    def __init__(self):\n",
        "        super().__init__(\"user-context\", \"user_profile\")\n",
        "\n",
        "    def authenticate(self, request):\n",
        "        # Verify OAuth 2.1 token with user_profile scope\n",
        "        token = request.headers.get(\"Authorization\").split(\" \")[1]\n",
        "        jwt.decode(\n",
        "            token,\n",
        "            options={\"verify_aud\": False, \"verify_iss\": True},\n",
        "            issuer=\"https://accounts.google.com\",\n",
        "            audience=\"mcp-user-service\",\n",
        "            scopes=[\"user_profile\"]\n",
        "        )\n",
        "\n",
        "    def fetch_data(self, request):\n",
        "        # Get API key from Secret Manager\n",
        "        api_key = self.secret_client.access_secret_version(\n",
        "            name=\"projects/my-project/secrets/API_KEY/versions/latest\"\n",
        "        ).payload.data.decode()\n",
        "\n",
        "        # Fetch from REST API (GenAI-generated from OpenAPI spec)\n",
        "        user_id = request.json[\"user_id\"]\n",
        "        if not re.match(r\"^[a-f\\d]{8}-([a-f\\d]{4}-){3}[a-f\\d]{12}$\", user_id):\n",
        "            raise ValueError(\"Invalid user ID format\")\n",
        "\n",
        "        response = requests.get(\n",
        "            f\"https://api.userservice.com/v1/profiles/{user_id}\",\n",
        "            headers={\"Authorization\": f\"Bearer {api_key}\"}\n",
        "        )\n",
        "        return response.json()\n",
        "\n",
        "    def build_context(self, raw_data):\n",
        "        # Convert to JSON-LD for agent reasoning\n",
        "        return {\n",
        "            \"@context\": \"https://schema.org/\",\n",
        "            \"@type\": \"Person\",\n",
        "            \"name\": f\"{raw_data['firstName']} {raw_data['lastName']}\",\n",
        "            \"email\": raw_data['contact']['email'],\n",
        "            \"metadata\": {\n",
        "                \"source\": \"REST_API\",\n",
        "                \"freshness\": datetime.datetime.utcnow().isoformat(),\n",
        "                \"size_kb\": len(json.dumps(raw_data)) / 1024\n",
        "            }\n",
        "        }"
      ]
    }
  ]
}