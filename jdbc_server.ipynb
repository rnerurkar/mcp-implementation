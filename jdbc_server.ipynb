{
  "nbformat": 4,
  "nbformat_minor": 0,
  "metadata": {
    "colab": {
      "provenance": []
    },
    "kernelspec": {
      "name": "python3",
      "display_name": "Python 3"
    },
    "language_info": {
      "name": "python"
    }
  },
  "cells": [
    {
      "cell_type": "code",
      "execution_count": null,
      "metadata": {
        "id": "L8JP4DlPZLz7"
      },
      "outputs": [],
      "source": [
        "from google.cloud.sql.connector import Connector\n",
        "import sqlalchemy\n",
        "\n",
        "class InventoryServer(MCPBaseServer):\n",
        "    def __init__(self):\n",
        "        super().__init__(\"inventory-context\", \"product_inventory\")\n",
        "        self.connector = Connector()\n",
        "        self.pool = sqlalchemy.create_engine(\n",
        "            \"postgresql+pg8000://\",\n",
        "            creator=self._get_conn,\n",
        "            pool_pre_ping=True\n",
        "        )\n",
        "\n",
        "    def _get_conn(self):\n",
        "        # IAM-authenticated connection\n",
        "        return self.connector.connect(\n",
        "            \"my-project:region:instance\",\n",
        "            \"pg8000\",\n",
        "            user=\"agent-service-account@my-project.iam\"\n",
        "        )\n",
        "\n",
        "    def authenticate(self, request):\n",
        "        # OAuth 2.1 with inventory_read scope\n",
        "        token = request.token\n",
        "        claims = jwt.decode(token, options={\"verify_signature\": False})\n",
        "        if not claims.get(\"scope\", \"\").startswith(\"inventory_read\"):\n",
        "            raise PermissionError(\"Invalid scope\")\n",
        "\n",
        "    def fetch_data(self, request):\n",
        "        # GenAI-generated from query parameters\n",
        "        query_name = request.json[\"query\"]\n",
        "        params = request.json[\"params\"]\n",
        "\n",
        "        predefined_queries = {\n",
        "            \"low_stock\": \"SELECT * FROM inventory WHERE stock < :threshold\",\n",
        "            \"by_category\": \"SELECT * FROM inventory WHERE category = :cat\"\n",
        "        }\n",
        "\n",
        "        with self.pool.connect() as conn:\n",
        "            result = conn.execute(\n",
        "                sqlalchemy.text(predefined_queries[query_name]),\n",
        "                params\n",
        "            ).fetchall()\n",
        "            return [dict(row) for row in result]\n",
        "\n",
        "    def build_context(self, raw_data):\n",
        "        # JSON-LD conversion\n",
        "        return {\n",
        "            \"@context\": \"https://schema.org/\",\n",
        "            \"@type\": \"ItemList\",\n",
        "            \"itemListElement\": [\n",
        "                {\n",
        "                    \"@type\": \"Product\",\n",
        "                    \"sku\": item[\"product_id\"],\n",
        "                    \"name\": item[\"product_name\"],\n",
        "                    \"inventory\": item[\"stock\"]\n",
        "                } for item in raw_data\n",
        "            ],\n",
        "            \"metadata\": {\n",
        "                \"source\": \"CloudSQL\",\n",
        "                \"freshness\": datetime.datetime.utcnow().isoformat(),\n",
        "                \"row_count\": len(raw_data)\n",
        "            }\n",
        "        }"
      ]
    }
  ]
}