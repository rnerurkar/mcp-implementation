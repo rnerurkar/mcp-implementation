{
  "nbformat": 4,
  "nbformat_minor": 0,
  "metadata": {
    "colab": {
      "provenance": []
    },
    "kernelspec": {
      "name": "python3",
      "display_name": "Python 3"
    },
    "language_info": {
      "name": "python"
    }
  },
  "cells": [
    {
      "cell_type": "code",
      "execution_count": null,
      "metadata": {
        "id": "5qBPwYTnY-LS"
      },
      "outputs": [],
      "source": [
        "from gql import Client, gql\n",
        "from gql.transport.requests import RequestsHTTPTransport\n",
        "\n",
        "class OrderContextServer(MCPBaseServer):\n",
        "    def __init__(self):\n",
        "        super().__init__(\"order-context\", \"order_history\")\n",
        "        self.transport = RequestsHTTPTransport(\n",
        "            url=\"https://graphql.ordersystem.com\",\n",
        "            headers=self._get_auth_headers()\n",
        "        )\n",
        "\n",
        "    def _get_auth_headers(self):\n",
        "        # GenAI-generated from GraphQL schema\n",
        "        token = self.secret_client.access_secret_version(\n",
        "            name=\"projects/my-project/secrets/GRAPHQL_TOKEN/versions/latest\"\n",
        "        ).payload.data.decode()\n",
        "        return {\"Authorization\": f\"Bearer {token}\"}\n",
        "\n",
        "    def authenticate(self, request):\n",
        "        # OAuth 2.1 with order_history scope\n",
        "        token = request.token\n",
        "        claims = jwt.decode(token, options={\"verify_signature\": False})\n",
        "        if \"order_history\" not in claims[\"scope\"]:\n",
        "            raise PermissionError(\"Missing required scope\")\n",
        "\n",
        "    def fetch_data(self, request):\n",
        "        # Parameterized GraphQL query (GenAI-generated)\n",
        "        client = Client(transport=self.transport, fetch_schema_from_transport=True)\n",
        "        query = gql(\"\"\"\n",
        "            query GetOrders($userId: ID!, $limit: Int = 10) {\n",
        "                orders(userId: $userId, first: $limit) {\n",
        "                    edges {\n",
        "                        node {\n",
        "                            id\n",
        "                            total\n",
        "                            items\n",
        "                            created\n",
        "                        }\n",
        "                    }\n",
        "                }\n",
        "            }\n",
        "        \"\"\")\n",
        "        return client.execute(query, variable_values={\n",
        "            \"userId\": request.json[\"user_id\"],\n",
        "            \"limit\": request.json.get(\"limit\", 10)\n",
        "        })\n",
        "\n",
        "    def build_context(self, raw_data):\n",
        "        # Convert to JSON-LD\n",
        "        orders = [edge[\"node\"] for edge in raw_data[\"orders\"][\"edges\"]]\n",
        "        return {\n",
        "            \"@context\": \"https://schema.org/\",\n",
        "            \"@type\": \"ItemList\",\n",
        "            \"itemListElement\": [\n",
        "                {\n",
        "                    \"@type\": \"Order\",\n",
        "                    \"orderId\": o[\"id\"],\n",
        "                    \"price\": o[\"total\"],\n",
        "                    \"orderDate\": o[\"created\"]\n",
        "                } for o in orders\n",
        "            ],\n",
        "            \"metadata\": {\n",
        "                \"source\": \"GraphQL\",\n",
        "                \"freshness\": datetime.datetime.utcnow().isoformat(),\n",
        "                \"query_depth\": 2  # Policy-enforced\n",
        "            }\n",
        "        }"
      ]
    }
  ]
}